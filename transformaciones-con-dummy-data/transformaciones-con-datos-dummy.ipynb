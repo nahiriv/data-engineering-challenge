{
 "cells": [
  {
   "cell_type": "markdown",
   "metadata": {},
   "source": [
    "# Transformaciones de Datos para Métricas de Atención al Cliente en ACME"
   ]
  },
  {
   "cell_type": "markdown",
   "metadata": {},
   "source": [
    "*Nota: En este notebook se usan datos 'dummy' generados para obtener un resultado más significativo.*"
   ]
  },
  {
   "cell_type": "markdown",
   "metadata": {},
   "source": [
    "Este notebook ha sido diseñado para realizar transformaciones sobre los datos disponibles en el Datalake de ACME, con el fin de preparar un conjunto de tablas que serán utilizadas por el equipo de BI para el desarrollo de un tablero de control. La meta principal de estas transformaciones es dar seguimiento y análisis a las métricas clave relacionadas con el sector de atención al cliente."
   ]
  },
  {
   "cell_type": "markdown",
   "metadata": {},
   "source": [
    "### Justificación del Enfoque\n",
    "En este challenge, opté por utilizar Jupyter Notebook para realizar las transformaciones y consultas requeridas. La elección de este enfoque se basó más que nada en demostrar el proceso de forma paso a paso y mantener la transparencia del análisis. Decidí trabajar con los datos de ejemplo proporcionados y cargarlos en  DataFrames que simulan las tablas. Luego, los datos fueron manipulados utilizando SQLite para llevar a cabo las consultas y transformaciones necesarias."
   ]
  },
  {
   "cell_type": "markdown",
   "metadata": {},
   "source": [
    "### 1. Cargar datos desde CSV"
   ]
  },
  {
   "cell_type": "code",
   "execution_count": 77,
   "metadata": {},
   "outputs": [
    {
     "name": "stdout",
     "output_type": "stream",
     "text": [
      "Interacciones:\n",
      "   case_id  interaction_id interaction_type representante    int_date\n",
      "0       32            1132  rep_case_closed    ggutierrez  2020-05-08\n",
      "1       33            1133   user_recontact           NaN  2020-11-05\n",
      "2       34            1134     user_contact           NaN  2020-09-13\n",
      "3       35            1135     rep_response         pcruz  2020-08-10\n",
      "4       36            1136     rep_response         pcruz  2020-09-22\n",
      "\n",
      "NPS:\n",
      "   survey_id  case_id  nps_score                      ps_comment\n",
      "0          2       32          7                             NaN\n",
      "1          3       33          6                             NaN\n",
      "2          4       34         10                             NaN\n",
      "3          5       35          0  No cumplieron mis expectativas\n",
      "4          6       36          5                No me gusto nada\n",
      "\n",
      "Representantes:\n",
      "  Representante         full_name  team incoming_date    status\n",
      "0    ggutierrez  Gaston Gutierrez     2    2017-11-28  Inactive\n",
      "1        jperez        Juan Perez     2    2020-05-20    Active\n",
      "2         pcruz        Pablo Cruz     2    2021-10-02    Active\n",
      "3      mramirez     Marco Ramirez     3    2023-04-13    Active\n",
      "4        slopez       Sofia Lopez     1    2018-06-23  Inactive\n"
     ]
    }
   ],
   "source": [
    "# Importar librerías\n",
    "import pandas as pd\n",
    "import sqlite3\n",
    "\n",
    "# Leer los archivos CSV, que contienen las tablas de ejemplo\n",
    "df_interacciones = pd.read_csv('interacciones.csv')\n",
    "df_nps = pd.read_csv('nps_surveys.csv')\n",
    "df_representantes = pd.read_csv('representantes.csv')\n",
    "\n",
    "# Mostrar las primeras filas para verificar\n",
    "print(\"Interacciones:\")\n",
    "print(df_interacciones.head())\n",
    "\n",
    "print(\"\\nNPS:\")\n",
    "print(df_nps.head())\n",
    "\n",
    "print(\"\\nRepresentantes:\")\n",
    "print(df_representantes.head())\n"
   ]
  },
  {
   "cell_type": "markdown",
   "metadata": {},
   "source": [
    "### 2. Crear una base de datos SQLite y cargar tablas"
   ]
  },
  {
   "cell_type": "code",
   "execution_count": 78,
   "metadata": {},
   "outputs": [
    {
     "name": "stdout",
     "output_type": "stream",
     "text": [
      "\n",
      "Tablas en SQLite:\n",
      "             name\n",
      "0   interacciones\n",
      "1             nps\n",
      "2  representantes\n"
     ]
    }
   ],
   "source": [
    "# Crear una base de datos SQLite en memoria\n",
    "conn = sqlite3.connect(\":memory:\")\n",
    "\n",
    "# Cargar los DataFrames como tablas en SQLite\n",
    "df_interacciones.to_sql('interacciones', conn, index=False, if_exists='replace')\n",
    "df_nps.to_sql('nps', conn, index=False, if_exists='replace')\n",
    "df_representantes.to_sql('representantes', conn, index=False, if_exists='replace')\n",
    "\n",
    "# Verificar que las tablas se hayan creado correctamente\n",
    "print(\"\\nTablas en SQLite:\")\n",
    "print(pd.read_sql(\"SELECT name FROM sqlite_master WHERE type='table';\", conn))\n"
   ]
  },
  {
   "cell_type": "markdown",
   "metadata": {},
   "source": [
    "### 3. Consultas SQL"
   ]
  },
  {
   "cell_type": "code",
   "execution_count": 79,
   "metadata": {},
   "outputs": [
    {
     "name": "stdout",
     "output_type": "stream",
     "text": [
      "\n",
      "Promedio de NPS por case_id:\n",
      "   case_id  avg_nps_score\n",
      "0       32            7.0\n",
      "1       33            6.0\n",
      "2       34           10.0\n",
      "3       35            0.0\n",
      "4       36            5.0\n"
     ]
    }
   ],
   "source": [
    "# Consulta SQL: Calcular el promedio de nps_score por case_id\n",
    "query_avg_nps = \"\"\"\n",
    "SELECT\n",
    "    case_id,\n",
    "    AVG(nps_score) AS avg_nps_score\n",
    "FROM\n",
    "    nps\n",
    "GROUP BY\n",
    "    case_id;\n",
    "\"\"\"\n",
    "\n",
    "# Ejecutar la consulta y cargar el resultado en un DataFrame\n",
    "df_avg_nps = pd.read_sql(query_avg_nps, conn)\n",
    "\n",
    "print(\"\\nPromedio de NPS por case_id:\")\n",
    "print(df_avg_nps.head())"
   ]
  },
  {
   "cell_type": "code",
   "execution_count": 80,
   "metadata": {},
   "outputs": [
    {
     "name": "stdout",
     "output_type": "stream",
     "text": [
      "\n",
      "Categorías para referral_status:\n",
      "   case_id interaction_type referral_status\n",
      "0       32  rep_case_closed     no_derivado\n",
      "1       33   user_recontact     no_derivado\n",
      "2       34     user_contact     no_derivado\n",
      "3       35     rep_response     no_derivado\n",
      "4       36     rep_response     no_derivado\n"
     ]
    }
   ],
   "source": [
    "# Consulta SQL: Categorizar casos como 'derivado' y 'no_derivado'\n",
    "query_categorias = \"\"\"\n",
    "SELECT\n",
    "    *,\n",
    "    CASE\n",
    "        WHEN interaction_type = 'rep_derivation' THEN 'derivado'\n",
    "        ELSE 'no_derivado'\n",
    "    END AS referral_status\n",
    "FROM\n",
    "    interacciones;\n",
    "\"\"\"\n",
    "\n",
    "# Ejecutar la consulta y cargar el resultado en un DataFrame\n",
    "df_categorias = pd.read_sql(query_categorias, conn)\n",
    "\n",
    "print(\"\\nCategorías para referral_status:\")\n",
    "print(df_categorias[['case_id', 'interaction_type', 'referral_status']].head())\n"
   ]
  },
  {
   "cell_type": "code",
   "execution_count": 81,
   "metadata": {},
   "outputs": [
    {
     "name": "stdout",
     "output_type": "stream",
     "text": [
      "\n",
      "Conteo de Promotores, Detractores y Total General:\n",
      "   cantidad_promotores  cantidad_detractores  total_general\n",
      "0                  312                   354           1000\n"
     ]
    }
   ],
   "source": [
    "# Consulta SQL: Contar promotores, detractores y el total general\n",
    "query_counts = \"\"\"\n",
    "SELECT\n",
    "    COUNT(CASE WHEN nps_score BETWEEN 9 AND 10 THEN 1 END) AS cantidad_promotores,\n",
    "    COUNT(CASE WHEN nps_score BETWEEN 0 AND 6 THEN 1 END) AS cantidad_detractores,\n",
    "    COUNT(*) AS total_general\n",
    "FROM\n",
    "    nps;\n",
    "\"\"\"\n",
    "\n",
    "# Ejecutar la consulta y cargar el resultado en un DataFrame\n",
    "df_counts = pd.read_sql(query_counts, conn)\n",
    "\n",
    "print(\"\\nConteo de Promotores, Detractores y Total General:\")\n",
    "print(df_counts)\n"
   ]
  },
  {
   "cell_type": "code",
   "execution_count": 82,
   "metadata": {},
   "outputs": [
    {
     "name": "stdout",
     "output_type": "stream",
     "text": [
      "\n",
      "NPS por referral_status:\n",
      "  referral_status  cantidad_promotores  cantidad_detractores  total_encuestas   \n",
      "0        derivado                   60                    59              170  \\\n",
      "1     no_derivado                  252                   295              830   \n",
      "\n",
      "         np  \n",
      "0  0.005882  \n",
      "1 -0.051807  \n"
     ]
    }
   ],
   "source": [
    "# Consulta SQL: Calcular NPS por referral_status\n",
    "query_nps_referral = \"\"\"\n",
    "SELECT\n",
    "    referral_status,\n",
    "    COUNT(CASE WHEN nps_score BETWEEN 9 AND 10 THEN 1 END) AS cantidad_promotores,\n",
    "    COUNT(CASE WHEN nps_score BETWEEN 0 AND 6 THEN 1 END) AS cantidad_detractores,\n",
    "    COUNT(*) AS total_encuestas,\n",
    "    (CAST(COUNT(CASE WHEN nps_score BETWEEN 9 AND 10 THEN 1 END) AS FLOAT) -\n",
    "     COUNT(CASE WHEN nps_score BETWEEN 0 AND 6 THEN 1 END))/\n",
    "     COUNT(*) AS np\n",
    "FROM (\n",
    "    SELECT\n",
    "        i.case_id,\n",
    "        CASE\n",
    "            WHEN i.interaction_type = 'rep_derivation' THEN 'derivado'\n",
    "            ELSE 'no_derivado'\n",
    "        END AS referral_status,\n",
    "        n.nps_score\n",
    "    FROM\n",
    "        interacciones i\n",
    "    LEFT JOIN\n",
    "        nps n ON i.case_id = n.case_id\n",
    ")\n",
    "GROUP BY\n",
    "    referral_status;\n",
    "\"\"\"\n",
    "\n",
    "# Ejecutar la consulta y cargar el resultado en un DataFrame\n",
    "df_nps_referral = pd.read_sql(query_nps_referral, conn)\n",
    "\n",
    "print(\"\\nNPS por referral_status:\")\n",
    "print(df_nps_referral)\n"
   ]
  },
  {
   "cell_type": "code",
   "execution_count": 83,
   "metadata": {},
   "outputs": [
    {
     "name": "stdout",
     "output_type": "stream",
     "text": [
      "\n",
      "NPS por equipo y por mes:\n",
      "      month  team  cantidad_promotores  cantidad_detractores  total_encuestas   \n",
      "0   2020-01     1                    3                     1                5  \\\n",
      "1   2020-01     2                    6                    11               27   \n",
      "2   2020-01     3                    3                     1                5   \n",
      "3   2020-02     1                    1                     4                8   \n",
      "4   2020-02     2                    8                     8               23   \n",
      "5   2020-02     3                    2                     2                6   \n",
      "6   2020-03     1                    5                     3                9   \n",
      "7   2020-03     2                   10                     7               29   \n",
      "8   2020-03     3                    1                     1                4   \n",
      "9   2020-04     1                    3                     1                8   \n",
      "10  2020-04     2                   10                     7               26   \n",
      "11  2020-04     3                    2                     4                9   \n",
      "12  2020-05     1                    2                     2                8   \n",
      "13  2020-05     2                    9                    14               29   \n",
      "14  2020-05     3                    2                     6               10   \n",
      "15  2020-06     1                    1                     5               10   \n",
      "16  2020-06     2                    7                    11               24   \n",
      "17  2020-06     3                    3                     1                5   \n",
      "18  2020-07     1                    2                     0                7   \n",
      "19  2020-07     2                    7                    10               30   \n",
      "20  2020-07     3                    1                     2                6   \n",
      "21  2020-08     1                    2                     0                5   \n",
      "22  2020-08     2                   15                     9               35   \n",
      "23  2020-08     3                    2                     2                6   \n",
      "24  2020-09     1                    4                     2                7   \n",
      "25  2020-09     2                   12                    16               35   \n",
      "26  2020-09     3                    1                     3                6   \n",
      "27  2020-10     1                    2                     2                7   \n",
      "28  2020-10     2                   12                    11               34   \n",
      "29  2020-10     3                    2                     4                7   \n",
      "30  2020-11     1                    1                     1                4   \n",
      "31  2020-11     2                    8                     7               21   \n",
      "32  2020-11     3                    1                     3                8   \n",
      "33  2020-12     1                    1                     3                7   \n",
      "34  2020-12     2                    6                     9               20   \n",
      "35  2020-12     3                    1                     3                7   \n",
      "\n",
      "         nps  \n",
      "0   0.400000  \n",
      "1  -0.185185  \n",
      "2   0.400000  \n",
      "3  -0.375000  \n",
      "4   0.000000  \n",
      "5   0.000000  \n",
      "6   0.222222  \n",
      "7   0.103448  \n",
      "8   0.000000  \n",
      "9   0.250000  \n",
      "10  0.115385  \n",
      "11 -0.222222  \n",
      "12  0.000000  \n",
      "13 -0.172414  \n",
      "14 -0.400000  \n",
      "15 -0.400000  \n",
      "16 -0.166667  \n",
      "17  0.400000  \n",
      "18  0.285714  \n",
      "19 -0.100000  \n",
      "20 -0.166667  \n",
      "21  0.400000  \n",
      "22  0.171429  \n",
      "23  0.000000  \n",
      "24  0.285714  \n",
      "25 -0.114286  \n",
      "26 -0.333333  \n",
      "27  0.000000  \n",
      "28  0.029412  \n",
      "29 -0.285714  \n",
      "30  0.000000  \n",
      "31  0.047619  \n",
      "32 -0.250000  \n",
      "33 -0.285714  \n",
      "34 -0.150000  \n",
      "35 -0.285714  \n"
     ]
    },
    {
     "data": {
      "image/png": "[encoded data removed]",
      "text/plain": [
       "<Figure size 1400x700 with 1 Axes>"
      ]
     },
     "metadata": {},
     "output_type": "display_data"
    }
   ],
   "source": [
    "# Ejecutar la consulta y cargar los resultados en un DataFrame\n",
    "query_nps_por_equipo = \"\"\"\n",
    "SELECT\n",
    "    strftime('%Y-%m', i.int_date) AS month,\n",
    "    r.team,\n",
    "    COUNT(DISTINCT CASE WHEN s.nps_score BETWEEN 9 AND 10 THEN s.case_id END) AS cantidad_promotores,\n",
    "    COUNT(DISTINCT CASE WHEN s.nps_score BETWEEN 0 AND 6 THEN s.case_id END) AS cantidad_detractores,\n",
    "    COUNT(DISTINCT s.case_id) AS total_encuestas,\n",
    "    ((COUNT(DISTINCT CASE WHEN s.nps_score BETWEEN 9 AND 10 THEN s.case_id END) -\n",
    "      COUNT(DISTINCT CASE WHEN s.nps_score BETWEEN 0 AND 6 THEN s.case_id END)) * 1.0 /\n",
    "     COUNT(DISTINCT s.case_id)) AS nps\n",
    "FROM\n",
    "    interacciones i\n",
    "JOIN\n",
    "    representantes r ON i.representante = r.representante\n",
    "LEFT JOIN\n",
    "    nps s ON i.case_id = s.case_id\n",
    "WHERE\n",
    "    i.interaction_type IN ('rep_response', 'rep_derivation', 'rep_case_closed')\n",
    "GROUP BY\n",
    "    month, r.team\n",
    "ORDER BY\n",
    "    month, r.team;\n",
    "\"\"\"\n",
    "\n",
    "# Ejecutar la consulta y cargar el resultado en un DataFrame\n",
    "df_nps_por_equipo = pd.read_sql(query_nps_por_equipo, conn)\n",
    "\n",
    "# Mostrar el resultado\n",
    "print(\"\\nNPS por equipo y por mes:\")\n",
    "print(df_nps_por_equipo)\n",
    "\n",
    "# Visualización opcional: gráfico de barras para ver el NPS por equipo y mes\n",
    "import matplotlib.pyplot as plt\n",
    "import seaborn as sns\n",
    "\n",
    "plt.figure(figsize=(14, 7))\n",
    "sns.barplot(data=df_nps_por_equipo, x='month', y='nps', hue='team')\n",
    "plt.title('NPS por equipo y mes')\n",
    "plt.xlabel('Mes')\n",
    "plt.ylabel('NPS')\n",
    "plt.xticks(rotation=45)\n",
    "plt.legend(title='Equipo')\n",
    "plt.show()\n"
   ]
  }
 ],
 "metadata": {
  "kernelspec": {
   "display_name": "Python 3",
   "language": "python",
   "name": "python3"
  },
  "language_info": {
   "codemirror_mode": {
    "name": "ipython",
    "version": 3
   },
   "file_extension": ".py",
   "mimetype": "text/x-python",
   "name": "python",
   "nbconvert_exporter": "python",
   "pygments_lexer": "ipython3",
   "version": "3.10.4"
  }
 },
 "nbformat": 4,
 "nbformat_minor": 2
}
