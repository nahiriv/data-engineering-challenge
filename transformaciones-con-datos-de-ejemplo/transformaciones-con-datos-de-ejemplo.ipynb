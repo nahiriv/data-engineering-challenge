{
 "cells": [
  {
   "cell_type": "markdown",
   "metadata": {},
   "source": [
    "# Transformaciones de Datos para Métricas de Atención al Cliente en ACME"
   ]
  },
  {
   "cell_type": "markdown",
   "metadata": {},
   "source": [
    "*Nota: En este notebook se usan sólo los datos de ejemplo dados en el documento de Evaluación Técnica*"
   ]
  },
  {
   "cell_type": "markdown",
   "metadata": {},
   "source": [
    "Este notebook ha sido diseñado para realizar transformaciones sobre los datos disponibles en el Datalake de ACME, con el fin de preparar un conjunto de tablas que serán utilizadas por el equipo de BI para el desarrollo de un tablero de control. La meta principal de estas transformaciones es dar seguimiento y análisis a las métricas clave relacionadas con el sector de atención al cliente."
   ]
  },
  {
   "cell_type": "markdown",
   "metadata": {},
   "source": [
    "### Justificación del Enfoque\n",
    "En este challenge, opté por utilizar Jupyter Notebook para realizar las transformaciones y consultas requeridas. La elección de este enfoque se basó más que nada en demostrar el proceso de forma paso a paso y mantener la transparencia del análisis. Decidí trabajar con los datos de ejemplo proporcionados y cargarlos en  DataFrames que simulan las tablas. Luego, los datos fueron manipulados utilizando SQLite para llevar a cabo las consultas y transformaciones necesarias."
   ]
  },
  {
   "cell_type": "markdown",
   "metadata": {},
   "source": [
    "### 1. Cargar datos desde CSV"
   ]
  },
  {
   "cell_type": "code",
   "execution_count": 8,
   "metadata": {},
   "outputs": [
    {
     "name": "stdout",
     "output_type": "stream",
     "text": [
      "Interacciones:\n",
      "   case_id  interaction_id interaction_type representante          int_date\n",
      "0       32            1132     user_contact           NaN  01/02/2020 10:54\n",
      "1       32            1133     rep_response    ggutierrez  01/02/2020 11:45\n",
      "2       32            1134   user_recontact           NaN   02/02/2020 9:45\n",
      "3       32            1135     rep_response        jperez  02/02/2020 12:35\n",
      "4       32            1136   rep_derivation        jperez  02/02/2020 12:39\n",
      "\n",
      "NPS:\n",
      "   survey_id  case_id  nps_score                     ps_comment\n",
      "0          2       32          9             !Muy buen atención\n",
      "1          3       41          1  Tardaron mucho en responderme\n",
      "2          4       59          8       Gracis por su respuesta!\n",
      "3          5      145          7                            NaN\n",
      "4          6      234         10                  Todo muy bien\n",
      "\n",
      "Representantes:\n",
      "  representante         full_name  team incoming_date  status\n",
      "0    ggutierrez  Gastón Gutierrez     1    01/01/2027  Active\n",
      "1        jperez        Juan Pérez     2    05/10/2019  Active\n",
      "2         pcruz        Pablo Cruz     2    01/01/2020  Active\n"
     ]
    }
   ],
   "source": [
    "# Importar librerías\n",
    "import pandas as pd\n",
    "import sqlite3\n",
    "\n",
    "# Leer los archivos CSV, que contienen las tablas de ejemplo\n",
    "df_interacciones = pd.read_csv('interacciones.csv')\n",
    "df_nps = pd.read_csv('nps.csv')\n",
    "df_representantes = pd.read_csv('representantes.csv')\n",
    "\n",
    "# Mostrar las primeras filas para verificar\n",
    "print(\"Interacciones:\")\n",
    "print(df_interacciones.head())\n",
    "\n",
    "print(\"\\nNPS:\")\n",
    "print(df_nps.head())\n",
    "\n",
    "print(\"\\nRepresentantes:\")\n",
    "print(df_representantes.head())\n"
   ]
  },
  {
   "cell_type": "markdown",
   "metadata": {},
   "source": [
    "### 2. Crear una base de datos SQLite y cargar tablas"
   ]
  },
  {
   "cell_type": "code",
   "execution_count": 9,
   "metadata": {},
   "outputs": [
    {
     "name": "stdout",
     "output_type": "stream",
     "text": [
      "\n",
      "Tablas en SQLite:\n",
      "             name\n",
      "0   interacciones\n",
      "1             nps\n",
      "2  representantes\n"
     ]
    }
   ],
   "source": [
    "# Crear una base de datos SQLite en memoria\n",
    "conn = sqlite3.connect(\":memory:\")\n",
    "\n",
    "# Cargar los DataFrames como tablas en SQLite\n",
    "df_interacciones.to_sql('interacciones', conn, index=False, if_exists='replace')\n",
    "df_nps.to_sql('nps', conn, index=False, if_exists='replace')\n",
    "df_representantes.to_sql('representantes', conn, index=False, if_exists='replace')\n",
    "\n",
    "# Verificar que las tablas se hayan creado correctamente\n",
    "print(\"\\nTablas en SQLite:\")\n",
    "print(pd.read_sql(\"SELECT name FROM sqlite_master WHERE type='table';\", conn))\n"
   ]
  },
  {
   "cell_type": "markdown",
   "metadata": {},
   "source": [
    "### 3. Consultas SQL"
   ]
  },
  {
   "cell_type": "code",
   "execution_count": 10,
   "metadata": {},
   "outputs": [
    {
     "name": "stdout",
     "output_type": "stream",
     "text": [
      "\n",
      "Promedio de NPS por case_id:\n",
      "   case_id  avg_nps_score\n",
      "0       32            9.0\n",
      "1       41            1.0\n",
      "2       59            8.0\n",
      "3      145            7.0\n",
      "4      234           10.0\n"
     ]
    }
   ],
   "source": [
    "# Consulta SQL: Calcular el promedio de nps_score por case_id\n",
    "query_avg_nps = \"\"\"\n",
    "SELECT\n",
    "    case_id,\n",
    "    AVG(nps_score) AS avg_nps_score\n",
    "FROM\n",
    "    nps\n",
    "GROUP BY\n",
    "    case_id;\n",
    "\"\"\"\n",
    "\n",
    "# Ejecutar la consulta y cargar el resultado en un DataFrame\n",
    "df_avg_nps = pd.read_sql(query_avg_nps, conn)\n",
    "\n",
    "print(\"\\nPromedio de NPS por case_id:\")\n",
    "print(df_avg_nps.head())"
   ]
  },
  {
   "cell_type": "code",
   "execution_count": 11,
   "metadata": {},
   "outputs": [
    {
     "name": "stdout",
     "output_type": "stream",
     "text": [
      "\n",
      "Categorías para referral_status:\n",
      "   case_id interaction_type referral_status\n",
      "0       32     user_contact     no_derivado\n",
      "1       32     rep_response     no_derivado\n",
      "2       32   user_recontact     no_derivado\n",
      "3       32     rep_response     no_derivado\n",
      "4       32   rep_derivation        derivado\n"
     ]
    }
   ],
   "source": [
    "# Consulta SQL: Categorizar casos como 'derivado' y 'no_derivado'\n",
    "query_categorias = \"\"\"\n",
    "SELECT\n",
    "    *,\n",
    "    CASE\n",
    "        WHEN interaction_type = 'rep_derivation' THEN 'derivado'\n",
    "        ELSE 'no_derivado'\n",
    "    END AS referral_status\n",
    "FROM\n",
    "    interacciones;\n",
    "\"\"\"\n",
    "\n",
    "# Ejecutar la consulta y cargar el resultado en un DataFrame\n",
    "df_categorias = pd.read_sql(query_categorias, conn)\n",
    "\n",
    "print(\"\\nCategorías para referral_status:\")\n",
    "print(df_categorias[['case_id', 'interaction_type', 'referral_status']].head())\n"
   ]
  },
  {
   "cell_type": "code",
   "execution_count": 12,
   "metadata": {},
   "outputs": [
    {
     "name": "stdout",
     "output_type": "stream",
     "text": [
      "\n",
      "Conteo de Promotores, Detractores y Total General:\n",
      "   cantidad_promotores  cantidad_detractores  total_general\n",
      "0                    2                     1              5\n"
     ]
    }
   ],
   "source": [
    "# Consulta SQL: Contar promotores, detractores y el total general\n",
    "query_counts = \"\"\"\n",
    "SELECT\n",
    "    COUNT(CASE WHEN nps_score BETWEEN 9 AND 10 THEN 1 END) AS cantidad_promotores,\n",
    "    COUNT(CASE WHEN nps_score BETWEEN 0 AND 6 THEN 1 END) AS cantidad_detractores,\n",
    "    COUNT(*) AS total_general\n",
    "FROM\n",
    "    nps;\n",
    "\"\"\"\n",
    "\n",
    "# Ejecutar la consulta y cargar el resultado en un DataFrame\n",
    "df_counts = pd.read_sql(query_counts, conn)\n",
    "\n",
    "print(\"\\nConteo de Promotores, Detractores y Total General:\")\n",
    "print(df_counts)\n"
   ]
  },
  {
   "cell_type": "code",
   "execution_count": 13,
   "metadata": {},
   "outputs": [
    {
     "name": "stdout",
     "output_type": "stream",
     "text": [
      "\n",
      "NPS por referral_status:\n",
      "  referral_status  cantidad_promotores  cantidad_detractores  total_encuestas   \n",
      "0        derivado                    1                     0                1  \\\n",
      "1     no_derivado                    7                     0                7   \n",
      "\n",
      "    np  \n",
      "0  1.0  \n",
      "1  1.0  \n"
     ]
    }
   ],
   "source": [
    "# Consulta SQL: Calcular NPS por referral_status\n",
    "query_nps_referral = \"\"\"\n",
    "SELECT\n",
    "    referral_status,\n",
    "    COUNT(CASE WHEN nps_score BETWEEN 9 AND 10 THEN 1 END) AS cantidad_promotores,\n",
    "    COUNT(CASE WHEN nps_score BETWEEN 0 AND 6 THEN 1 END) AS cantidad_detractores,\n",
    "    COUNT(*) AS total_encuestas,\n",
    "    (CAST(COUNT(CASE WHEN nps_score BETWEEN 9 AND 10 THEN 1 END) AS FLOAT) -\n",
    "     COUNT(CASE WHEN nps_score BETWEEN 0 AND 6 THEN 1 END))/\n",
    "     COUNT(*) AS np\n",
    "FROM (\n",
    "    SELECT\n",
    "        i.case_id,\n",
    "        CASE\n",
    "            WHEN i.interaction_type = 'rep_derivation' THEN 'derivado'\n",
    "            ELSE 'no_derivado'\n",
    "        END AS referral_status,\n",
    "        n.nps_score\n",
    "    FROM\n",
    "        interacciones i\n",
    "    LEFT JOIN\n",
    "        nps n ON i.case_id = n.case_id\n",
    ")\n",
    "GROUP BY\n",
    "    referral_status;\n",
    "\"\"\"\n",
    "\n",
    "# Ejecutar la consulta y cargar el resultado en un DataFrame\n",
    "df_nps_referral = pd.read_sql(query_nps_referral, conn)\n",
    "\n",
    "print(\"\\nNPS por referral_status:\")\n",
    "print(df_nps_referral)\n"
   ]
  },
  {
   "cell_type": "code",
   "execution_count": 14,
   "metadata": {},
   "outputs": [
    {
     "name": "stdout",
     "output_type": "stream",
     "text": [
      "\n",
      "NPS por equipo y por mes:\n",
      "  month  team  cantidad_promotores  cantidad_detractores  total_encuestas  nps\n",
      "0  None     1                    1                     0                1  1.0\n",
      "1  None     2                    1                     0                1  1.0\n"
     ]
    }
   ],
   "source": [
    "# Ejecutar la consulta y cargar los resultados en un DataFrame\n",
    "query_nps_por_equipo = \"\"\"\n",
    "SELECT\n",
    "    strftime('%Y-%m', i.int_date) AS month,\n",
    "    r.team,\n",
    "    COUNT(DISTINCT CASE WHEN s.nps_score BETWEEN 9 AND 10 THEN s.case_id END) AS cantidad_promotores,\n",
    "    COUNT(DISTINCT CASE WHEN s.nps_score BETWEEN 0 AND 6 THEN s.case_id END) AS cantidad_detractores,\n",
    "    COUNT(DISTINCT s.case_id) AS total_encuestas,\n",
    "    ((COUNT(DISTINCT CASE WHEN s.nps_score BETWEEN 9 AND 10 THEN s.case_id END) -\n",
    "      COUNT(DISTINCT CASE WHEN s.nps_score BETWEEN 0 AND 6 THEN s.case_id END)) * 1.0 /\n",
    "     COUNT(DISTINCT s.case_id)) AS nps\n",
    "FROM\n",
    "    interacciones i\n",
    "JOIN\n",
    "    representantes r ON i.representante = r.representante\n",
    "LEFT JOIN\n",
    "    nps s ON i.case_id = s.case_id\n",
    "WHERE\n",
    "    i.interaction_type IN ('rep_response', 'rep_derivation', 'rep_case_closed')\n",
    "GROUP BY\n",
    "    month, r.team\n",
    "ORDER BY\n",
    "    month, r.team;\n",
    "\"\"\"\n",
    "\n",
    "# Ejecutar la consulta y cargar el resultado en un DataFrame\n",
    "df_nps_por_equipo = pd.read_sql(query_nps_por_equipo, conn)\n",
    "\n",
    "# Mostrar el resultado\n",
    "print(\"\\nNPS por equipo y por mes:\")\n",
    "print(df_nps_por_equipo)\n",
    "\n"
   ]
  }
 ],
 "metadata": {
  "kernelspec": {
   "display_name": "Python 3",
   "language": "python",
   "name": "python3"
  },
  "language_info": {
   "codemirror_mode": {
    "name": "ipython",
    "version": 3
   },
   "file_extension": ".py",
   "mimetype": "text/x-python",
   "name": "python",
   "nbconvert_exporter": "python",
   "pygments_lexer": "ipython3",
   "version": "3.10.4"
  }
 },
 "nbformat": 4,
 "nbformat_minor": 2
}
