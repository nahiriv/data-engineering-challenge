{
 "cells": [
  {
   "cell_type": "markdown",
   "metadata": {},
   "source": [
    "# Transformaciones de Datos para Métricas de Atención al Cliente en ACME"
   ]
  },
  {
   "cell_type": "markdown",
   "metadata": {},
   "source": [
    "Este notebook ha sido diseñado para realizar transformaciones sobre los datos disponibles en el Datalake de ACME, con el fin de preparar un conjunto de tablas que serán utilizadas por el equipo de BI para el desarrollo de un tablero de control. La meta principal de estas transformaciones es dar seguimiento y análisis a las métricas clave relacionadas con el sector de atención al cliente."
   ]
  },
  {
   "cell_type": "markdown",
   "metadata": {},
   "source": [
    "### Justificación del Enfoque\n",
    "En este challenge, opté por utilizar Jupyter Notebook para realizar las transformaciones y consultas requeridas. La elección de este enfoque se basó más que nada en demostrar el proceso de forma paso a paso y mantener la transparencia del análisis. Decidí trabajar con los datos de ejemplo proporcionados y cargarlos en  DataFrames que simulan las tablas. Luego, los datos fueron manipulados utilizando SQLite para llevar a cabo las consultas y transformaciones necesarias."
   ]
  },
  {
   "cell_type": "code",
   "execution_count": 2,
   "metadata": {},
   "outputs": [],
   "source": [
    "# Importar bibliotecas necesarias\n",
    "import pandas as pd\n",
    "import sqlite3\n",
    "from IPython.display import display"
   ]
  },
  {
   "cell_type": "markdown",
   "metadata": {},
   "source": [
    "#### 1. Crear DataFrames con los datos de ejemplo"
   ]
  },
  {
   "cell_type": "code",
   "execution_count": 3,
   "metadata": {},
   "outputs": [],
   "source": [
    "# Crear el DataFrame de interacciones\n",
    "df_interactions = pd.DataFrame({\n",
    "    'case_id': [32, 32, 32, 32, 32, 32, 32, 32, 32],\n",
    "    'interaction_id': [1132, 1133, 1134, 1135, 1136, 1137, 1138, 1139, 1140],\n",
    "    'interaction_type': ['user_contact', 'rep_response', 'user_recontact', 'rep_response',\n",
    "                         'rep_derivation', 'rep_response', 'rep_response', 'rep_case_closed', 'survey_sent'],\n",
    "    'representante': [None, 'ggutierrez', None, 'jperez', 'jperez', 'pcruz', 'pcruz', 'pcruz', 'pcruz'],\n",
    "    'int_date': ['01/02/2020 10:54', '01/02/2020 11:45', '02/02/2020 9:45', '02/02/2020 12:35',\n",
    "                 '02/02/2020 12:39', '02/02/2020 20:39', '02/02/2020 20:41', '02/02/2020 20:42', None]\n",
    "})\n",
    "\n",
    "# Crear el DataFrame de representantes\n",
    "df_representantes = pd.DataFrame({\n",
    "    'representante': ['ggutierrez', 'jperez', 'pcruz'],\n",
    "    'full_name': ['Gastón Gutierrez', 'Juan Pérez', 'Pablo Cruz'],\n",
    "    'team': [1, 2, 2],\n",
    "    'incoming_date': ['01/01/2027', '05/10/2019', '01/01/2020'],\n",
    "    'status': ['Active', 'Active', 'Active']\n",
    "})\n",
    "\n",
    "# Crear el DataFrame de encuestas\n",
    "df_surveys = pd.DataFrame({\n",
    "    'survey_id': [2, 3, 4, 5, 6],\n",
    "    'case_id': [32, 41, 59, 145, 234],\n",
    "    'nps_score': [9, 1, 8, 7, 10],\n",
    "    'nps_comment': ['!Muy buen atención!', 'Tardaron mucho en responderme', 'Gracias por su respuesta!',\n",
    "                    None, 'Todo muy bien']\n",
    "})\n",
    "\n",
    "# Convertir columnas de fechas a tipo datetime\n",
    "df_interactions['int_date'] = pd.to_datetime(df_interactions['int_date'], errors='coerce')\n",
    "df_representantes['incoming_date'] = pd.to_datetime(df_representantes['incoming_date'], errors='coerce')\n"
   ]
  },
  {
   "cell_type": "markdown",
   "metadata": {},
   "source": [
    "#### 2. Conexión a SQLite en memoria y carga de los datos"
   ]
  },
  {
   "cell_type": "code",
   "execution_count": 4,
   "metadata": {},
   "outputs": [],
   "source": [
    "conn = sqlite3.connect(':memory:')  # Conexión a SQLite en memoria"
   ]
  },
  {
   "cell_type": "code",
   "execution_count": 5,
   "metadata": {},
   "outputs": [
    {
     "data": {
      "text/plain": [
       "5"
      ]
     },
     "execution_count": 5,
     "metadata": {},
     "output_type": "execute_result"
    }
   ],
   "source": [
    "# Cargar DataFrames en la base de datos SQLite\n",
    "df_interactions.to_sql('interactions', conn, index=False, if_exists='replace')\n",
    "df_representantes.to_sql('representantes', conn, index=False, if_exists='replace')\n",
    "df_surveys.to_sql('surveys', conn, index=False, if_exists='replace')\n"
   ]
  },
  {
   "cell_type": "markdown",
   "metadata": {},
   "source": [
    "### Consigna 1\n",
    "#### a. Consulta SQL para Calcular el NPS de Casos Derivados por Mes\n",
    "\n",
    "Esta consulta SQL calcula el Net Promoter Score (NPS) para los casos que han sido derivados al menos una vez. El NPS se calcula considerando solo las interacciones donde el caso ha sido derivado o cerrado por un representante.\n"
   ]
  },
  {
   "cell_type": "code",
   "execution_count": 6,
   "metadata": {},
   "outputs": [
    {
     "data": {
      "text/html": [
       "<div>\n",
       "<style scoped>\n",
       "    .dataframe tbody tr th:only-of-type {\n",
       "        vertical-align: middle;\n",
       "    }\n",
       "\n",
       "    .dataframe tbody tr th {\n",
       "        vertical-align: top;\n",
       "    }\n",
       "\n",
       "    .dataframe thead th {\n",
       "        text-align: right;\n",
       "    }\n",
       "</style>\n",
       "<table border=\"1\" class=\"dataframe\">\n",
       "  <thead>\n",
       "    <tr style=\"text-align: right;\">\n",
       "      <th></th>\n",
       "      <th>month</th>\n",
       "      <th>casos_derivados</th>\n",
       "      <th>cantidad_promotores</th>\n",
       "      <th>cantidad_detractores</th>\n",
       "      <th>total_encuestas</th>\n",
       "      <th>nps</th>\n",
       "    </tr>\n",
       "  </thead>\n",
       "  <tbody>\n",
       "    <tr>\n",
       "      <th>0</th>\n",
       "      <td>2020-02</td>\n",
       "      <td>1</td>\n",
       "      <td>1</td>\n",
       "      <td>0</td>\n",
       "      <td>1</td>\n",
       "      <td>100.0</td>\n",
       "    </tr>\n",
       "  </tbody>\n",
       "</table>\n",
       "</div>"
      ],
      "text/plain": [
       "     month  casos_derivados  cantidad_promotores  cantidad_detractores   \n",
       "0  2020-02                1                    1                     0  \\\n",
       "\n",
       "   total_encuestas    nps  \n",
       "0                1  100.0  "
      ]
     },
     "execution_count": 6,
     "metadata": {},
     "output_type": "execute_result"
    }
   ],
   "source": [
    "query_derivados = \"\"\"\n",
    "SELECT\n",
    "    strftime('%Y-%m', i.int_date) AS month,\n",
    "    COUNT(DISTINCT CASE WHEN i.interaction_type = 'rep_derivation' THEN i.case_id END) AS casos_derivados,\n",
    "    COUNT(DISTINCT CASE WHEN s.nps_score BETWEEN 9 AND 10 THEN s.case_id END) AS cantidad_promotores,\n",
    "    COUNT(DISTINCT CASE WHEN s.nps_score BETWEEN 0 AND 6 THEN s.case_id END) AS cantidad_detractores,\n",
    "    COUNT(DISTINCT s.case_id) AS total_encuestas,\n",
    "    ((COUNT(DISTINCT CASE WHEN s.nps_score BETWEEN 9 AND 10 THEN s.case_id END) -\n",
    "      COUNT(DISTINCT CASE WHEN s.nps_score BETWEEN 0 AND 6 THEN s.case_id END)) * 1.0 /\n",
    "     COUNT(DISTINCT s.case_id)) * 100 AS nps\n",
    "FROM\n",
    "    interactions i\n",
    "LEFT JOIN\n",
    "    surveys s ON i.case_id = s.case_id\n",
    "WHERE\n",
    "    i.interaction_type IN ('rep_derivation', 'rep_case_closed')\n",
    "GROUP BY\n",
    "    month;\n",
    "\"\"\"\n",
    "\n",
    "# Execute query and display the result\n",
    "df_nps_derivados = pd.read_sql(query_derivados, conn)\n",
    "df_nps_derivados\n"
   ]
  },
  {
   "cell_type": "markdown",
   "metadata": {},
   "source": [
    "##### Descripción de la Consulta:\n",
    "\n",
    "1. **Agrupación por Mes**:\n",
    "   La consulta utiliza la función `strftime('%Y-%m', i.int_date)` para extraer el mes y año de la fecha de la interacción y agrupar los resultados por mes.\n",
    "\n",
    "2. **Cálculo de Casos Derivados**:\n",
    "   Se cuenta el número de casos que tienen el tipo de interacción `'rep_derivation'` usando `COUNT(DISTINCT CASE WHEN i.interaction_type = 'rep_derivation' THEN i.case_id END)`.\n",
    "\n",
    "3. **Cálculo de Promotores y Detractores**:\n",
    "   Se cuentan los casos que tienen un puntaje de NPS entre 9 y 10 como \"promotores\" y los casos con un puntaje entre 0 y 6 como \"detractores\".\n",
    "\n",
    "4. **Cálculo de Total de Encuestas**:\n",
    "   Se calcula el total de encuestas realizadas usando `COUNT(DISTINCT s.case_id)`.\n",
    "\n",
    "5. **Cálculo del NPS**:\n",
    "   El NPS se calcula con la fórmula: \n",
    "   \\[\n",
    "   \\text{NPS} = \\left( \\frac{\\text{Cantidad de Promotores} - \\text{Cantidad de Detractores}}{\\text{Total de Encuestas}} \\right) \\times 100\n",
    "   \\]\n",
    "   Esta fórmula convierte el NPS en un porcentaje que representa la diferencia entre la cantidad de promotores y detractores.\n"
   ]
  },
  {
   "cell_type": "markdown",
   "metadata": {},
   "source": [
    "#### b. Consulta SQL para Calcular el NPS de Casos que no tuvieron ninguna derivación"
   ]
  },
  {
   "cell_type": "code",
   "execution_count": 7,
   "metadata": {},
   "outputs": [
    {
     "data": {
      "text/html": [
       "<div>\n",
       "<style scoped>\n",
       "    .dataframe tbody tr th:only-of-type {\n",
       "        vertical-align: middle;\n",
       "    }\n",
       "\n",
       "    .dataframe tbody tr th {\n",
       "        vertical-align: top;\n",
       "    }\n",
       "\n",
       "    .dataframe thead th {\n",
       "        text-align: right;\n",
       "    }\n",
       "</style>\n",
       "<table border=\"1\" class=\"dataframe\">\n",
       "  <thead>\n",
       "    <tr style=\"text-align: right;\">\n",
       "      <th></th>\n",
       "      <th>month</th>\n",
       "      <th>casos_sin_derivacion</th>\n",
       "      <th>cantidad_promotores</th>\n",
       "      <th>cantidad_detractores</th>\n",
       "      <th>total_encuestas</th>\n",
       "      <th>nps</th>\n",
       "    </tr>\n",
       "  </thead>\n",
       "  <tbody>\n",
       "  </tbody>\n",
       "</table>\n",
       "</div>"
      ],
      "text/plain": [
       "Empty DataFrame\n",
       "Columns: [month, casos_sin_derivacion, cantidad_promotores, cantidad_detractores, total_encuestas, nps]\n",
       "Index: []"
      ]
     },
     "execution_count": 7,
     "metadata": {},
     "output_type": "execute_result"
    }
   ],
   "source": [
    "query_no_derivados = \"\"\"\n",
    "SELECT\n",
    "    strftime('%Y-%m', i.int_date) AS month,\n",
    "    COUNT(DISTINCT CASE WHEN i.interaction_type = 'rep_derivation' THEN i.case_id END) AS casos_sin_derivacion,\n",
    "    COUNT(DISTINCT CASE WHEN s.nps_score BETWEEN 9 AND 10 THEN s.case_id END) AS cantidad_promotores,\n",
    "    COUNT(DISTINCT CASE WHEN s.nps_score BETWEEN 0 AND 6 THEN s.case_id END) AS cantidad_detractores,\n",
    "    COUNT(DISTINCT s.case_id) AS total_encuestas,\n",
    "    ((COUNT(DISTINCT CASE WHEN s.nps_score BETWEEN 9 AND 10 THEN s.case_id END) -\n",
    "      COUNT(DISTINCT CASE WHEN s.nps_score BETWEEN 0 AND 6 THEN s.case_id END)) * 1.0 /\n",
    "     COUNT(DISTINCT s.case_id)) * 100 AS nps\n",
    "FROM\n",
    "    interactions i\n",
    "LEFT JOIN\n",
    "    surveys s ON i.case_id = s.case_id\n",
    "WHERE\n",
    "    i.interaction_type = 'user_contact'\n",
    "    AND NOT EXISTS (\n",
    "        SELECT 1\n",
    "        FROM interactions i2\n",
    "        WHERE i2.case_id = i.case_id\n",
    "          AND i2.interaction_type = 'rep_derivation'\n",
    "    )\n",
    "GROUP BY\n",
    "    month;\n",
    "\"\"\"\n",
    "\n",
    "# Execute query and display the result\n",
    "df_nps_no_derivados = pd.read_sql(query_no_derivados, conn)\n",
    "df_nps_no_derivados\n"
   ]
  },
  {
   "cell_type": "markdown",
   "metadata": {},
   "source": [
    "### Consigna 2\n",
    "#### Se requiere visualizar el NPS por cada equipo de representantes y por mes."
   ]
  },
  {
   "cell_type": "code",
   "execution_count": 8,
   "metadata": {},
   "outputs": [
    {
     "data": {
      "text/html": [
       "<div>\n",
       "<style scoped>\n",
       "    .dataframe tbody tr th:only-of-type {\n",
       "        vertical-align: middle;\n",
       "    }\n",
       "\n",
       "    .dataframe tbody tr th {\n",
       "        vertical-align: top;\n",
       "    }\n",
       "\n",
       "    .dataframe thead th {\n",
       "        text-align: right;\n",
       "    }\n",
       "</style>\n",
       "<table border=\"1\" class=\"dataframe\">\n",
       "  <thead>\n",
       "    <tr style=\"text-align: right;\">\n",
       "      <th></th>\n",
       "      <th>month</th>\n",
       "      <th>team</th>\n",
       "      <th>cantidad_promotores</th>\n",
       "      <th>cantidad_detractores</th>\n",
       "      <th>total_encuestas</th>\n",
       "      <th>nps</th>\n",
       "    </tr>\n",
       "  </thead>\n",
       "  <tbody>\n",
       "    <tr>\n",
       "      <th>0</th>\n",
       "      <td>2020-01</td>\n",
       "      <td>1</td>\n",
       "      <td>1</td>\n",
       "      <td>0</td>\n",
       "      <td>1</td>\n",
       "      <td>100.0</td>\n",
       "    </tr>\n",
       "    <tr>\n",
       "      <th>1</th>\n",
       "      <td>2020-02</td>\n",
       "      <td>2</td>\n",
       "      <td>1</td>\n",
       "      <td>0</td>\n",
       "      <td>1</td>\n",
       "      <td>100.0</td>\n",
       "    </tr>\n",
       "  </tbody>\n",
       "</table>\n",
       "</div>"
      ],
      "text/plain": [
       "     month  team  cantidad_promotores  cantidad_detractores  total_encuestas   \n",
       "0  2020-01     1                    1                     0                1  \\\n",
       "1  2020-02     2                    1                     0                1   \n",
       "\n",
       "     nps  \n",
       "0  100.0  \n",
       "1  100.0  "
      ]
     },
     "execution_count": 8,
     "metadata": {},
     "output_type": "execute_result"
    }
   ],
   "source": [
    "# Consulta SQL para obtener el NPS por equipo y por mes\n",
    "query_nps_por_equipo = \"\"\"\n",
    "SELECT\n",
    "    strftime('%Y-%m', i.int_date) AS month,\n",
    "    r.team,\n",
    "    COUNT(DISTINCT CASE WHEN s.nps_score BETWEEN 9 AND 10 THEN s.case_id END) AS cantidad_promotores,\n",
    "    COUNT(DISTINCT CASE WHEN s.nps_score BETWEEN 0 AND 6 THEN s.case_id END) AS cantidad_detractores,\n",
    "    COUNT(DISTINCT s.case_id) AS total_encuestas,\n",
    "    ((COUNT(DISTINCT CASE WHEN s.nps_score BETWEEN 9 AND 10 THEN s.case_id END) - \n",
    "      COUNT(DISTINCT CASE WHEN s.nps_score BETWEEN 0 AND 6 THEN s.case_id END)) * 1.0 / \n",
    "     COUNT(DISTINCT s.case_id)) * 100 AS nps\n",
    "FROM\n",
    "    interactions i\n",
    "JOIN\n",
    "    representantes r ON i.representante = r.representante\n",
    "LEFT JOIN\n",
    "    surveys s ON i.case_id = s.case_id\n",
    "WHERE\n",
    "    i.interaction_type IN ('rep_response', 'rep_derivation', 'rep_case_closed')\n",
    "GROUP BY\n",
    "    month, r.team\n",
    "ORDER BY\n",
    "    month, r.team;\n",
    "\"\"\"\n",
    "\n",
    "# Ejecutar la consulta y cargar los resultados en un DataFrame\n",
    "df_nps_por_equipo = pd.read_sql(query_nps_por_equipo, conn)\n",
    "\n",
    "# Mostrar los resultados\n",
    "df_nps_por_equipo"
   ]
  },
  {
   "cell_type": "markdown",
   "metadata": {},
   "source": [
    "Agrupación por Mes y Equipo: Se extrae el mes de las fechas de interacción (strftime('%Y-%m', i.int_date)) y se une cada interacción con su representante (r.team).\n",
    "Cálculo de Promotores y Detractores: Se cuentan los casos con NPS entre 9-10 (promotores) y 0-6 (detractores) de las encuestas..\n",
    "Uniones y Filtros: Las interacciones relevantes (rep_response, rep_derivation, rep_case_closed) se enlazan con las encuestas y representantes."
   ]
  }
 ],
 "metadata": {
  "kernelspec": {
   "display_name": "Python 3",
   "language": "python",
   "name": "python3"
  },
  "language_info": {
   "codemirror_mode": {
    "name": "ipython",
    "version": 3
   },
   "file_extension": ".py",
   "mimetype": "text/x-python",
   "name": "python",
   "nbconvert_exporter": "python",
   "pygments_lexer": "ipython3",
   "version": "3.10.4"
  }
 },
 "nbformat": 4,
 "nbformat_minor": 2
}
